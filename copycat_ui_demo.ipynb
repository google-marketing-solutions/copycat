{
  "cells": [
    {
      "cell_type": "markdown",
      "metadata": {
        "id": "7WwNVIi97Ba2"
      },
      "source": [
        "# Copycat UI Demo\n",
        "\n",
        "This is a demo of the copycat AI using the user interface. You must use the copycat colab runtime. This can be started on borg as follows:\n",
        "\n",
        "1.  Open your cloudtop and navigate to a CITC client.\n",
        "2.  If you haven't already set up the alias, run the following (or add it to\n",
        "    your `.bashrc`):\n",
        "    ```\n",
        "    alias colab='/google/bin/releases/grp-ix-team/rapid/colab-cli/cli.par'\n",
        "    ```\n",
        "3.  Start the colab kernel with the following command. You will need to set an\n",
        "    mdb group and a borg cell for this. While we are experimenting, you can use\n",
        "    the following mdb group: `gps-ds-research-emea-jobs`. I used `cell=io`.\n",
        "    ```\n",
        "    colab launch_borg //third_party/professional_services/solutions/copycat:colab --charged_user=\u003cMDB GROUP GOES HERE\u003e --cell=\u003cCELL GOES HERE\u003e --label=Copycat\n",
        "    ```\n",
        "    If you are a member of the copycat group, you can use this command instead:\n",
        "    ```\n",
        "    colab launch_borg //third_party/professional_services/solutions/copycat:colab --charged_user=gps-solution-copycat-jobs --cell=dg --label=Copycat\n",
        "    ```\n",
        "4.  Once that has run, wait a few minutes and then connect to the kernel by\n",
        "    selecting it in the top right (it should be named \"Copycat\"). You should now\n",
        "    be able to run this notebook."
      ]
    },
    {
      "cell_type": "code",
      "execution_count": null,
      "metadata": {
        "cellView": "form",
        "id": "mJYXh1OM6xbd"
      },
      "outputs": [],
      "source": [
        "# @title Import Packages\n",
        "\n",
        "# @markdown ## How do you want to import Copycat?\n",
        "# @markdown If swapping between methods you may need to restart your kernel.\n",
        "# @markdown * `citc`: Import the version of the code from a CITC client. **Useful for testing WIP code.**\n",
        "# @markdown * `head`: Import the most recent version of the code from HEAD. **Useful for quickly getting new features\n",
        "# @markdown without having to rebuild your runtime.**\n",
        "# @markdown * `build`: Imports the version of Copycat that was used to build the Borg runtime. **The most stable method,\n",
        "# @markdown but show to rebuild each time to get new code.**\n",
        "\n",
        "IMPORT_METHOD = \"citc\" # @param [\"citc\",\"head\",\"build\"]\n",
        "# @markdown If you are using `citc`, provide the name of the CITC client below. It must be your CITC client.\n",
        "CITC_CLIENT = \"copycat\" # @param {type:\"string\"}\n",
        "\n",
        "from colabtools import adhoc_import\n",
        "from importlib import reload\n",
        "import mesop as me\n",
        "\n",
        "if IMPORT_METHOD == \"head\":\n",
        "\n",
        "  with adhoc_import.Google3(\n",
        "      behavior=\"preferred\",\n",
        "      package_restrict=\"google3.third_party.professional_services.solutions.copycat\"\n",
        "    ):\n",
        "    from google3.third_party.professional_services.solutions.copycat.py import copycat\n",
        "    from google3.third_party.professional_services.solutions.copycat.py.copycat import ui\n",
        "\n",
        "    copycat = reload(copycat)\n",
        "    ui = reload(ui)\n",
        "\n",
        "elif IMPORT_METHOD == \"citc\":\n",
        "\n",
        "  with adhoc_import.Google3CitcClient(\n",
        "      CITC_CLIENT,\n",
        "      behavior=\"preferred\",\n",
        "      package_restrict=\"google3.third_party.professional_services.solutions.copycat\"\n",
        "    ):\n",
        "    from google3.third_party.professional_services.solutions.copycat.py import copycat\n",
        "    from google3.third_party.professional_services.solutions.copycat.py.copycat import ui\n",
        "    from google3.third_party.professional_services.solutions.copycat.py.copycat.ui import setup_page\n",
        "    from google3.third_party.professional_services.solutions.copycat.py.copycat.ui import main\n",
        "\n",
        "    copycat = reload(copycat)\n",
        "    ui = reload(ui)\n",
        "    setup_page = reload(setup_page)\n",
        "    main = reload(main)\n",
        "\n",
        "elif IMPORT_METHOD == \"build\":\n",
        "\n",
        "  from google3.third_party.professional_services.solutions.copycat.py import copycat\n",
        "  from google3.third_party.professional_services.solutions.copycat.py.copycat import ui\n",
        "\n",
        "\n",
        "else:\n",
        "  raise ImportError(f\"Invalid import method: {IMPORT_METHOD}\")\n",
        "\n",
        "me.colab_run()\n"
      ]
    },
    {
      "cell_type": "code",
      "execution_count": null,
      "metadata": {
        "cellView": "form",
        "id": "N_Nem1A6-blm"
      },
      "outputs": [],
      "source": [
        "# @title Start the UI\n",
        "\n",
        "me.colab_show(port=32123, path=\"/\", height=800)"
      ]
    }
  ],
  "metadata": {
    "colab": {
      "last_runtime": {
        "build_target": "//third_party/professional_services/solutions/copycat:colab",
        "kind": "private"
      },
      "private_outputs": true,
      "provenance": [
        {
          "file_id": "16KnhHkhImkml_2Ai58GjmIT0eJKNZoxI",
          "timestamp": 1727733144216
        }
      ]
    },
    "kernelspec": {
      "display_name": "Python 3",
      "name": "python3"
    },
    "language_info": {
      "name": "python"
    }
  },
  "nbformat": 4,
  "nbformat_minor": 0
}
